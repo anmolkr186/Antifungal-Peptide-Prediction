{
  "nbformat": 4,
  "nbformat_minor": 0,
  "metadata": {
    "accelerator": "TPU",
    "colab": {
      "name": "final_tripeptide_svm.ipynb",
      "provenance": [],
      "toc_visible": true
    },
    "kernelspec": {
      "display_name": "Python 3",
      "language": "python",
      "name": "python3"
    },
    "language_info": {
      "codemirror_mode": {
        "name": "ipython",
        "version": 3
      },
      "file_extension": ".py",
      "mimetype": "text/x-python",
      "name": "python",
      "nbconvert_exporter": "python",
      "pygments_lexer": "ipython3",
      "version": "3.7.3"
    }
  },
  "cells": [
    {
      "cell_type": "code",
      "metadata": {
        "id": "bpN4iNMdPqC_",
        "colab_type": "code",
        "colab": {}
      },
      "source": [
        "import csv\n",
        "from numpy import *\n",
        "import os"
      ],
      "execution_count": 0,
      "outputs": []
    },
    {
      "cell_type": "code",
      "metadata": {
        "id": "bFpEZCJKPqDE",
        "colab_type": "code",
        "colab": {}
      },
      "source": [
        "import pandas as pd\n",
        "import numpy as np\n",
        "from sklearn.ensemble import ExtraTreesClassifier\n",
        "from sklearn.model_selection import GridSearchCV\n",
        "from sklearn.model_selection import cross_val_score\n",
        "from sklearn.model_selection import KFold\n",
        "from sklearn import svm"
      ],
      "execution_count": 0,
      "outputs": []
    },
    {
      "cell_type": "code",
      "metadata": {
        "id": "41ye1bqnPqDH",
        "colab_type": "code",
        "colab": {}
      },
      "source": [
        "m = []\n",
        "\n",
        "amino_acids = ['G', 'P', 'A', 'V', 'L', 'I', 'M', 'C', 'F', 'Y', 'W', 'H', 'K', 'R', 'Q', 'N', 'E', 'D', 'S', 'T' ]\n",
        "amino_acids.sort()\n",
        "\n",
        "a = []\n",
        "for i in amino_acids:\n",
        "    for j in amino_acids:\n",
        "        for q in amino_acids:\n",
        "            x = i + j + q\n",
        "            a.append(x)\n",
        "\n",
        "sequences = []\n",
        "\n",
        "curr = os.getcwd()\n",
        "flag = 0\n",
        "with open(curr + '/train.csv', 'rt')as g:\n",
        "    data1 = csv.reader(g)\n",
        "    for row in data1:\n",
        "        if flag == 0:\n",
        "          flag += 1\n",
        "        else:\n",
        "          sequences.append(row[2])\n",
        "        \n",
        "# sequences.remove('Sequence')\n",
        "\n",
        "for d in sequences:\n",
        "    #creating empty dictionary\n",
        "    abc = {}\n",
        "    for i in range(len(a)):\n",
        "        if a[i] not in abc.keys():\n",
        "            abc[a[i]] = 0\n",
        "\n",
        "    seq = d\n",
        "    # print(seq)\n",
        "    # for every sequence\n",
        "    for i in range(len(seq)-2):\n",
        "        x = \"\"\n",
        "        if(i==len(seq)-3):\n",
        "            x = seq[i:]\n",
        "        else:\n",
        "            x = seq[i:i+3]\n",
        "        abc[x] += 1\n",
        "    m.append([seq,abc])\n",
        "\n",
        "# print(m)\n",
        "\n",
        "#diving by 8000 for each tripeptide combination\n",
        "for row in m:\n",
        "    dd = row[1]\n",
        "    for k in dd:\n",
        "        dd[k] = dd[k]/8000.00\n",
        "\n",
        "# for row in m:\n",
        "#     if row[0] == \"KDEL\":\n",
        "#         for i in row[1]:\n",
        "#             if(row[1][i]!=0):\n",
        "#                 print(i,\" \", row[1][i])\n",
        "\n",
        "csv_columns = a\n",
        "csv_file = curr + \"/train_output.csv\"\n",
        "try:\n",
        "    with open(csv_file, 'w', newline = '') as csvfile:\n",
        "        writer = csv.DictWriter(csvfile, fieldnames=csv_columns)\n",
        "        writer.writeheader()\n",
        "        for pro in m:  \n",
        "            writer.writerow(pro[1])\n",
        "except IOError:\n",
        "    print(\"I/O error\")"
      ],
      "execution_count": 0,
      "outputs": []
    },
    {
      "cell_type": "code",
      "metadata": {
        "id": "PFJ9Yzs6PqDK",
        "colab_type": "code",
        "colab": {}
      },
      "source": [
        "t1 = pd.read_csv(\"train_output.csv\")"
      ],
      "execution_count": 0,
      "outputs": []
    },
    {
      "cell_type": "code",
      "metadata": {
        "id": "FAFjS8KZPqDN",
        "colab_type": "code",
        "colab": {
          "base_uri": "https://localhost:8080/",
          "height": 34
        },
        "outputId": "a76d2649-5f86-4dda-9b2d-1f989b859b87"
      },
      "source": [
        "t1.shape"
      ],
      "execution_count": 70,
      "outputs": [
        {
          "output_type": "execute_result",
          "data": {
            "text/plain": [
              "(2550, 8000)"
            ]
          },
          "metadata": {
            "tags": []
          },
          "execution_count": 70
        }
      ]
    },
    {
      "cell_type": "code",
      "metadata": {
        "id": "OmXXOYGQPqDQ",
        "colab_type": "code",
        "colab": {}
      },
      "source": [
        "m = []\n",
        "\n",
        "amino_acids = ['G', 'P', 'A', 'V', 'L', 'I', 'M', 'C', 'F','Y', 'W', 'H', 'K', 'R', 'Q', 'N', 'E', 'D', 'S', 'T']\n",
        "amino_acids.sort()\n",
        "\n",
        "a = []\n",
        "for i in amino_acids:\n",
        "    for j in amino_acids:\n",
        "        for q in amino_acids:\n",
        "            x = i + j + q\n",
        "            a.append(x)\n",
        "\n",
        "sequences = []\n",
        "\n",
        "curr = os.getcwd()\n",
        "flag = 0\n",
        "with open(curr + '/test.csv', 'rt')as g:\n",
        "    data1 = csv.reader(g)\n",
        "    for row in data1:\n",
        "        if flag == 0:\n",
        "          flag += 1\n",
        "        else:\n",
        "          sequences.append(row[1])\n",
        "\n",
        "for d in sequences:\n",
        "    #creating empty dictionary\n",
        "    abc = {}\n",
        "    for i in range(len(a)):\n",
        "        if a[i] not in abc.keys():\n",
        "            abc[a[i]] = 0\n",
        "\n",
        "    seq = d\n",
        "    # print(seq)\n",
        "    # for every sequence\n",
        "    for i in range(len(seq)-2):\n",
        "        x = \"\"\n",
        "        if(i == len(seq)-3):\n",
        "            x = seq[i:]\n",
        "        else:\n",
        "            x = seq[i:i+3]\n",
        "        abc[x] += 1\n",
        "    m.append([seq, abc])\n",
        "\n",
        "# print(m)\n",
        "\n",
        "for row in m:\n",
        "    dd = row[1]\n",
        "    for k in dd:\n",
        "        dd[k] = dd[k]/8000.00\n",
        "\n",
        "# for row in m:\n",
        "#     if row[0] == \"KDEL\":\n",
        "#         for i in row[1]:\n",
        "#             if(row[1][i]!=0):\n",
        "#                 print(i,\" \", row[1][i])\n",
        "\n",
        "csv_columns = a\n",
        "csv_file = curr + \"/test_output.csv\"\n",
        "try:\n",
        "    with open(csv_file, 'w', newline='') as csvfile:\n",
        "        writer = csv.DictWriter(csvfile, fieldnames=csv_columns)\n",
        "        writer.writeheader()\n",
        "        for pro in m:\n",
        "            writer.writerow(pro[1])\n",
        "except IOError:\n",
        "    print(\"I/O error\")\n"
      ],
      "execution_count": 0,
      "outputs": []
    },
    {
      "cell_type": "code",
      "metadata": {
        "id": "daSUcRtTPqDU",
        "colab_type": "code",
        "colab": {}
      },
      "source": [
        "t2 = pd.read_csv(\"test_output.csv\")"
      ],
      "execution_count": 0,
      "outputs": []
    },
    {
      "cell_type": "code",
      "metadata": {
        "colab_type": "code",
        "id": "zus8SDlyIPid",
        "colab": {
          "base_uri": "https://localhost:8080/",
          "height": 34
        },
        "outputId": "84c1757d-feef-4f4c-dc8b-ddc2fe5d4ce2"
      },
      "source": [
        "t2.shape"
      ],
      "execution_count": 73,
      "outputs": [
        {
          "output_type": "execute_result",
          "data": {
            "text/plain": [
              "(368, 8000)"
            ]
          },
          "metadata": {
            "tags": []
          },
          "execution_count": 73
        }
      ]
    },
    {
      "cell_type": "code",
      "metadata": {
        "colab_type": "code",
        "id": "N7e4JpSZJVis",
        "colab": {}
      },
      "source": [
        "x = pd.read_csv(\"train_output.csv\")\n",
        "test = pd.read_csv(\"test_output.csv\")"
      ],
      "execution_count": 0,
      "outputs": []
    },
    {
      "cell_type": "code",
      "metadata": {
        "id": "3fXUq2k_PqDd",
        "colab_type": "code",
        "colab": {
          "base_uri": "https://localhost:8080/",
          "height": 34
        },
        "outputId": "af0029bb-1cd9-4ce0-89ea-fc518657dfcd"
      },
      "source": [
        "test.shape"
      ],
      "execution_count": 75,
      "outputs": [
        {
          "output_type": "execute_result",
          "data": {
            "text/plain": [
              "(368, 8000)"
            ]
          },
          "metadata": {
            "tags": []
          },
          "execution_count": 75
        }
      ]
    },
    {
      "cell_type": "code",
      "metadata": {
        "colab_type": "code",
        "id": "Vc01AH8jIz-l",
        "colab": {}
      },
      "source": [
        "y = pd.read_csv(\"train.csv\")"
      ],
      "execution_count": 0,
      "outputs": []
    },
    {
      "cell_type": "code",
      "metadata": {
        "colab_type": "code",
        "id": "h9Uv8BzpI4d5",
        "outputId": "e2c044bc-2d8f-4aa3-ee9b-97b0d41da3cd",
        "colab": {
          "base_uri": "https://localhost:8080/",
          "height": 34
        }
      },
      "source": [
        "y.shape"
      ],
      "execution_count": 77,
      "outputs": [
        {
          "output_type": "execute_result",
          "data": {
            "text/plain": [
              "(2550, 3)"
            ]
          },
          "metadata": {
            "tags": []
          },
          "execution_count": 77
        }
      ]
    },
    {
      "cell_type": "code",
      "metadata": {
        "colab_type": "code",
        "id": "lW1fL_0yI6j-",
        "outputId": "c3ffe6e2-c7cf-4919-94b0-ee75e6aeae69",
        "colab": {
          "base_uri": "https://localhost:8080/",
          "height": 195
        }
      },
      "source": [
        "y.head()"
      ],
      "execution_count": 78,
      "outputs": [
        {
          "output_type": "execute_result",
          "data": {
            "text/html": [
              "<div>\n",
              "<style scoped>\n",
              "    .dataframe tbody tr th:only-of-type {\n",
              "        vertical-align: middle;\n",
              "    }\n",
              "\n",
              "    .dataframe tbody tr th {\n",
              "        vertical-align: top;\n",
              "    }\n",
              "\n",
              "    .dataframe thead th {\n",
              "        text-align: right;\n",
              "    }\n",
              "</style>\n",
              "<table border=\"1\" class=\"dataframe\">\n",
              "  <thead>\n",
              "    <tr style=\"text-align: right;\">\n",
              "      <th></th>\n",
              "      <th>ID</th>\n",
              "      <th>Lable</th>\n",
              "      <th>Sequence</th>\n",
              "    </tr>\n",
              "  </thead>\n",
              "  <tbody>\n",
              "    <tr>\n",
              "      <th>0</th>\n",
              "      <td>1001</td>\n",
              "      <td>-1</td>\n",
              "      <td>GGTIFDCGESCFLGTCYTKGCSCGEWKLCYGTN</td>\n",
              "    </tr>\n",
              "    <tr>\n",
              "      <th>1</th>\n",
              "      <td>1002</td>\n",
              "      <td>1</td>\n",
              "      <td>LEKARHGSCNYVFPA</td>\n",
              "    </tr>\n",
              "    <tr>\n",
              "      <th>2</th>\n",
              "      <td>1003</td>\n",
              "      <td>1</td>\n",
              "      <td>KQLKTCTSVIKLGHPCDIESCLNECFRVYNTGFATCRGDKYSQLCT...</td>\n",
              "    </tr>\n",
              "    <tr>\n",
              "      <th>3</th>\n",
              "      <td>1004</td>\n",
              "      <td>1</td>\n",
              "      <td>SMVAEARTCESQSHKFKGPCASDHNCASVCQTERFSGGHCRGFRRR...</td>\n",
              "    </tr>\n",
              "    <tr>\n",
              "      <th>4</th>\n",
              "      <td>1005</td>\n",
              "      <td>1</td>\n",
              "      <td>AKKRKKKTYTKPKKIKHKHKKVKLAVLQFYKIDGSGKVQRLRKECP...</td>\n",
              "    </tr>\n",
              "  </tbody>\n",
              "</table>\n",
              "</div>"
            ],
            "text/plain": [
              "     ID Lable                                           Sequence\n",
              "0  1001    -1                  GGTIFDCGESCFLGTCYTKGCSCGEWKLCYGTN\n",
              "1  1002     1                                    LEKARHGSCNYVFPA\n",
              "2  1003     1  KQLKTCTSVIKLGHPCDIESCLNECFRVYNTGFATCRGDKYSQLCT...\n",
              "3  1004     1  SMVAEARTCESQSHKFKGPCASDHNCASVCQTERFSGGHCRGFRRR...\n",
              "4  1005     1  AKKRKKKTYTKPKKIKHKHKKVKLAVLQFYKIDGSGKVQRLRKECP..."
            ]
          },
          "metadata": {
            "tags": []
          },
          "execution_count": 78
        }
      ]
    },
    {
      "cell_type": "code",
      "metadata": {
        "colab_type": "code",
        "id": "-gQZwGOVI8JN",
        "colab": {}
      },
      "source": [
        "y = y.iloc[:, 1]"
      ],
      "execution_count": 0,
      "outputs": []
    },
    {
      "cell_type": "code",
      "metadata": {
        "colab_type": "code",
        "id": "UX5JNGWyI-sK",
        "outputId": "5e2c0bd6-e573-4121-e68c-1fbcbffde2c3",
        "colab": {
          "base_uri": "https://localhost:8080/",
          "height": 122
        }
      },
      "source": [
        "y.head(), y.shape"
      ],
      "execution_count": 80,
      "outputs": [
        {
          "output_type": "execute_result",
          "data": {
            "text/plain": [
              "(0    -1\n",
              " 1     1\n",
              " 2     1\n",
              " 3     1\n",
              " 4     1\n",
              " Name: Lable, dtype: object, (2550,))"
            ]
          },
          "metadata": {
            "tags": []
          },
          "execution_count": 80
        }
      ]
    },
    {
      "cell_type": "code",
      "metadata": {
        "colab_type": "code",
        "id": "B9P5H7JHJBu8",
        "colab": {}
      },
      "source": [
        "columns = x.columns"
      ],
      "execution_count": 0,
      "outputs": []
    },
    {
      "cell_type": "code",
      "metadata": {
        "colab_type": "code",
        "id": "JAA2lzCyK0Mr",
        "colab": {}
      },
      "source": [
        "for col in columns:\n",
        "  x[col] = x[col]*100"
      ],
      "execution_count": 0,
      "outputs": []
    },
    {
      "cell_type": "code",
      "metadata": {
        "colab_type": "code",
        "id": "MajqsmKFaJDO",
        "colab": {}
      },
      "source": [
        "for col in columns:\n",
        "  test[col] = test[col]*100"
      ],
      "execution_count": 0,
      "outputs": []
    },
    {
      "cell_type": "code",
      "metadata": {
        "colab_type": "code",
        "id": "jLHquN1HM7Sb",
        "outputId": "4375aa36-91c8-4ab0-cdfd-93a035efc3c7",
        "colab": {
          "base_uri": "https://localhost:8080/",
          "height": 34
        }
      },
      "source": [
        "x.shape, test.shape"
      ],
      "execution_count": 84,
      "outputs": [
        {
          "output_type": "execute_result",
          "data": {
            "text/plain": [
              "((2550, 8000), (368, 8000))"
            ]
          },
          "metadata": {
            "tags": []
          },
          "execution_count": 84
        }
      ]
    },
    {
      "cell_type": "code",
      "metadata": {
        "colab_type": "code",
        "id": "c5QxuEueK4Fj",
        "colab": {}
      },
      "source": [
        "clf = svm.SVC()"
      ],
      "execution_count": 0,
      "outputs": []
    },
    {
      "cell_type": "code",
      "metadata": {
        "colab_type": "code",
        "id": "KIRr4ZD9K7bY",
        "outputId": "0974813b-f18a-45ec-8a72-d02aaf6e82af",
        "colab": {
          "base_uri": "https://localhost:8080/",
          "height": 34
        }
      },
      "source": [
        "cross_val_score(clf, x, y, cv = KFold(5, True, 0))"
      ],
      "execution_count": 86,
      "outputs": [
        {
          "output_type": "execute_result",
          "data": {
            "text/plain": [
              "array([0.83921569, 0.9       , 0.86666667, 0.87843137, 0.88627451])"
            ]
          },
          "metadata": {
            "tags": []
          },
          "execution_count": 86
        }
      ]
    },
    {
      "cell_type": "code",
      "metadata": {
        "colab_type": "code",
        "id": "hr_VUm_5VAfZ",
        "outputId": "22db464c-d39c-49d3-c4c2-841a47287e30",
        "colab": {
          "base_uri": "https://localhost:8080/",
          "height": 87
        }
      },
      "source": [
        "clf.fit(x, y)"
      ],
      "execution_count": 87,
      "outputs": [
        {
          "output_type": "execute_result",
          "data": {
            "text/plain": [
              "SVC(C=1.0, break_ties=False, cache_size=200, class_weight=None, coef0=0.0,\n",
              "    decision_function_shape='ovr', degree=3, gamma='scale', kernel='rbf',\n",
              "    max_iter=-1, probability=False, random_state=None, shrinking=True,\n",
              "    tol=0.001, verbose=False)"
            ]
          },
          "metadata": {
            "tags": []
          },
          "execution_count": 87
        }
      ]
    },
    {
      "cell_type": "code",
      "metadata": {
        "colab_type": "code",
        "id": "0PTfW9U3VEYj",
        "colab": {}
      },
      "source": [
        "y_pred = clf.predict(test)"
      ],
      "execution_count": 0,
      "outputs": []
    },
    {
      "cell_type": "code",
      "metadata": {
        "colab_type": "code",
        "id": "5Qo-OMmnaSEA",
        "outputId": "c47095fe-bd94-4261-82ad-f4729444c358",
        "colab": {
          "base_uri": "https://localhost:8080/",
          "height": 34
        }
      },
      "source": [
        "y_pred.shape"
      ],
      "execution_count": 89,
      "outputs": [
        {
          "output_type": "execute_result",
          "data": {
            "text/plain": [
              "(368,)"
            ]
          },
          "metadata": {
            "tags": []
          },
          "execution_count": 89
        }
      ]
    },
    {
      "cell_type": "code",
      "metadata": {
        "colab_type": "code",
        "id": "dMATmu73VHo9",
        "outputId": "fce7324e-68ce-4c15-b874-140cab3c76ae",
        "colab": {
          "base_uri": "https://localhost:8080/",
          "height": 562
        }
      },
      "source": [
        "y_pred"
      ],
      "execution_count": 90,
      "outputs": [
        {
          "output_type": "execute_result",
          "data": {
            "text/plain": [
              "array(['1', '1', '1', '-1', '1', '1', '-1', '-1', '1', '1', '1', '1', '1',\n",
              "       '-1', '1', '-1', '-1', '1', '-1', '-1', '1', '1', '-1', '1', '1',\n",
              "       '1', '1', '1', '1', '1', '1', '1', '1', '1', '-1', '-1', '1', '-1',\n",
              "       '-1', '-1', '-1', '1', '1', '-1', '-1', '1', '-1', '-1', '1', '-1',\n",
              "       '-1', '-1', '-1', '1', '1', '-1', '1', '-1', '-1', '-1', '1', '-1',\n",
              "       '-1', '-1', '-1', '1', '-1', '1', '1', '1', '1', '1', '1', '-1',\n",
              "       '-1', '1', '1', '-1', '-1', '1', '1', '-1', '1', '-1', '-1', '-1',\n",
              "       '1', '1', '1', '-1', '1', '1', '-1', '-1', '1', '1', '1', '1', '1',\n",
              "       '-1', '1', '1', '1', '-1', '-1', '1', '1', '1', '1', '-1', '-1',\n",
              "       '1', '-1', '-1', '1', '-1', '-1', '-1', '-1', '-1', '-1', '1',\n",
              "       '-1', '-1', '-1', '-1', '-1', '1', '-1', '-1', '1', '1', '1', '1',\n",
              "       '-1', '-1', '-1', '1', '-1', '1', '1', '-1', '1', '1', '-1', '-1',\n",
              "       '1', '-1', '1', '1', '1', '-1', '1', '-1', '1', '1', '-1', '-1',\n",
              "       '1', '1', '-1', '1', '-1', '1', '1', '1', '-1', '-1', '1', '1',\n",
              "       '-1', '1', '-1', '1', '-1', '-1', '-1', '-1', '1', '-1', '1', '-1',\n",
              "       '1', '-1', '1', '-1', '-1', '-1', '1', '1', '1', '-1', '1', '-1',\n",
              "       '-1', '1', '1', '1', '-1', '-1', '1', '1', '-1', '-1', '-1', '1',\n",
              "       '1', '-1', '1', '-1', '-1', '-1', '-1', '1', '-1', '-1', '-1',\n",
              "       '-1', '1', '-1', '1', '-1', '1', '1', '-1', '-1', '-1', '-1', '-1',\n",
              "       '1', '1', '1', '1', '1', '-1', '1', '-1', '1', '-1', '-1', '1',\n",
              "       '-1', '-1', '-1', '1', '-1', '1', '-1', '-1', '1', '-1', '-1', '1',\n",
              "       '1', '1', '1', '1', '1', '1', '-1', '1', '-1', '-1', '-1', '-1',\n",
              "       '1', '1', '1', '-1', '1', '-1', '-1', '-1', '-1', '1', '-1', '-1',\n",
              "       '1', '1', '-1', '-1', '-1', '1', '1', '-1', '-1', '-1', '-1', '1',\n",
              "       '-1', '1', '-1', '1', '-1', '-1', '-1', '-1', '1', '-1', '1', '1',\n",
              "       '-1', '-1', '-1', '1', '-1', '-1', '1', '1', '1', '-1', '-1', '-1',\n",
              "       '-1', '-1', '-1', '1', '1', '-1', '1', '-1', '1', '-1', '-1', '1',\n",
              "       '-1', '-1', '-1', '1', '1', '1', '1', '-1', '1', '1', '-1', '-1',\n",
              "       '1', '-1', '1', '1', '1', '-1', '-1', '1', '1', '-1', '-1', '1',\n",
              "       '1', '1', '1', '1', '-1', '1', '1', '-1', '1', '-1', '1', '-1',\n",
              "       '1', '-1', '-1', '-1', '-1', '-1', '1'], dtype=object)"
            ]
          },
          "metadata": {
            "tags": []
          },
          "execution_count": 90
        }
      ]
    },
    {
      "cell_type": "code",
      "metadata": {
        "id": "SnUUlDTCT_Kt",
        "colab_type": "code",
        "colab": {}
      },
      "source": [
        "id = []\n",
        "flag = 0\n",
        "with open(curr + '/test.csv', 'rt')as g:\n",
        "    data1 = csv.reader(g)\n",
        "    for row in data1:\n",
        "      if flag == 0:\n",
        "        flag += 1\n",
        "      else:\n",
        "        id.append(row[0])\n",
        "        "
      ],
      "execution_count": 0,
      "outputs": []
    },
    {
      "cell_type": "code",
      "metadata": {
        "id": "pJGgPuNMU58y",
        "colab_type": "code",
        "colab": {
          "base_uri": "https://localhost:8080/",
          "height": 34
        },
        "outputId": "cabd0491-745a-4ef8-f848-06ef90ada14d"
      },
      "source": [
        "id1 = np.array(id)\n",
        "id1.shape"
      ],
      "execution_count": 92,
      "outputs": [
        {
          "output_type": "execute_result",
          "data": {
            "text/plain": [
              "(368,)"
            ]
          },
          "metadata": {
            "tags": []
          },
          "execution_count": 92
        }
      ]
    },
    {
      "cell_type": "code",
      "metadata": {
        "id": "o8uV3NqjYDU4",
        "colab_type": "code",
        "colab": {}
      },
      "source": [
        "c = np.column_stack([id1,y_pred])"
      ],
      "execution_count": 0,
      "outputs": []
    },
    {
      "cell_type": "code",
      "metadata": {
        "colab_type": "code",
        "id": "vZQcHqsCU5Bt",
        "colab": {}
      },
      "source": [
        "np.savetxt(\"tripeptide_svm_pred.csv\", c, delimiter = \",\",  header=\"ID,Label\", comments=\"\", fmt = \"%s\")"
      ],
      "execution_count": 0,
      "outputs": []
    }
  ]
}